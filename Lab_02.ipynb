{
 "cells": [
  {
   "cell_type": "code",
   "execution_count": null,
   "metadata": {},
   "outputs": [
    {
     "name": "stdout",
     "output_type": "stream",
     "text": [
      "Enter new sample [height,weight]:200,100\n",
      "[200, 100]\n"
     ]
    },
    {
     "data": {
      "image/png": "[encoded data removed]",
      "text/plain": [
       "<matplotlib.figure.Figure at 0x21451e0dbe0>"
      ]
     },
     "metadata": {},
     "output_type": "display_data"
    },
    {
     "name": "stdout",
     "output_type": "stream",
     "text": [
      "[[36.878177829171548, 'k'], [19.416487838947599, 'k'], [21.2602916254693, 'k'], [44.598206241955516, 'r'], [24.207436873820409, 'r']]\n",
      "['k', 'k', 'r']\n",
      "New member => Wrestler\n"
     ]
    }
   ],
   "source": [
    "#python dictionary\n",
    "dataset={\n",
    "    'k':[[208,136],[196,119],[184,114]], #wrestler\n",
    "    'r':[[170,67],[185,81]] #footballer\n",
    "}\n",
    "#print(dataset)\n",
    "\n",
    "import matplotlib.pyplot as plt\n",
    "from matplotlib import style\n",
    "style.use('fivethirtyeight')\n",
    "\n",
    "def scatter_plot(new_feat):\n",
    "\n",
    "    for i in dataset:\n",
    "        for j in dataset[i]:\n",
    "            plt.scatter(j[0],j[1],color=i)\n",
    "    plt.scatter(new_feat[0],new_feat[1],s=100,color='b')\n",
    "    plt.show()\n",
    "\n",
    "import numpy as np\n",
    "from collections import Counter\n",
    "\n",
    "def knn(data,predict,k):\n",
    "    distance=[]\n",
    "    for group in data:\n",
    "        for features in data[group]:\n",
    "            ecd=np.linalg.norm(np.array(features)-np.array(predict))\n",
    "            distance.append([ecd,group])\n",
    "    print(distance)\n",
    "    votes=[i[1] for i in sorted(distance)[:k]]\n",
    "    print(votes)\n",
    "    vote_result=Counter(votes).most_common(1)[0][0]\n",
    "    return vote_result\n",
    "\n",
    "while True:\n",
    "    new_one=input('Enter new sample [height,weight]:').split(',')\n",
    "    new_sample=[]\n",
    "    new_sample.append(int(new_one[0]))\n",
    "    new_sample.append(int(new_one[1]))\n",
    "    if new_sample==[0,0]:\n",
    "        break\n",
    "    else:\n",
    "        print(new_sample)\n",
    "        scatter_plot(new_sample)\n",
    "        result=knn(dataset,new_sample,3)\n",
    "        if result=='k':\n",
    "            print('New member => Wrestler')\n",
    "        else:\n",
    "            print('New member => Footballer')\n",
    "            \n",
    "#next lab report\n",
    "    #Illustrate knowledge discovery machanism by appling KNN\n",
    "            \n",
    "#5 december -> lab quiz test in python"
   ]
  },
  {
   "cell_type": "code",
   "execution_count": null,
   "metadata": {
    "collapsed": true
   },
   "outputs": [],
   "source": [
    "a=int(input('Enter a number: '))\n",
    "b=int(input('Enter another number: '))\n",
    "c=a+b\n",
    "print(c)"
   ]
  }
 ],
 "metadata": {
  "kernelspec": {
   "display_name": "Python 3",
   "language": "python",
   "name": "python3"
  }
 },
 "nbformat": 4,
 "nbformat_minor": 2
}
