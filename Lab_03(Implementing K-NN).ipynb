{
 "cells": [
  {
   "cell_type": "markdown",
   "metadata": {},
   "source": [
    "1. অজানা ডেটা পয়েন্ট থেকে বাকি সব ডেটা পয়েন্টের দূরত্ব বের করতে হবে\n",
    "2. দূরত্বের মান অনুযায়ী ছোট থেকে বড় আকারে (ascending order) ডেটা পয়েন্টগুলো সর্ট (sorting) করে নিতে হবে\n",
    "3. সর্ট করা পয়েন্ট থেকে প্রথম k-সংখ্যক পয়েন্ট নিতে হবে।\n",
    "4. এই k-সংখ্যক ডেটা পয়েন্টের মধ্যে যে ক্লাসের পয়েন্ট সবচে বেশি সংখ্যকবার আছে,অজানা ডেটা পয়েন্টটিকে সেই ক্লাস হিসেবে চিহ্নিত করতে হবে।"
   ]
  },
  {
   "cell_type": "code",
   "execution_count": 1,
   "metadata": {
    "scrolled": true
   },
   "outputs": [
    {
     "name": "stdout",
     "output_type": "stream",
     "text": [
      "Add new sample [weight,height]= 80,140\n",
      "[80, 140]\n"
     ]
    },
    {
     "data": {
      "image/png": "[encoded data removed]",
      "text/plain": [
       "<Figure size 432x288 with 1 Axes>"
      ]
     },
     "metadata": {},
     "output_type": "display_data"
    },
    {
     "name": "stdout",
     "output_type": "stream",
     "text": [
      "[('k', 7)]\n",
      "Result k\n",
      "Footballer\n",
      "Add new sample [weight,height]= 110,155\n",
      "[110, 155]\n"
     ]
    },
    {
     "data": {
      "image/png": "[encoded data removed]",
      "text/plain": [
       "<Figure size 432x288 with 1 Axes>"
      ]
     },
     "metadata": {},
     "output_type": "display_data"
    },
    {
     "name": "stdout",
     "output_type": "stream",
     "text": [
      "[('r', 7)]\n",
      "Result r\n",
      "Wrestler\n",
      "Add new sample [weight,height]= 0,0\n"
     ]
    }
   ],
   "source": [
    "import numpy as np\n",
    "import matplotlib.pyplot as plt\n",
    "from matplotlib import style\n",
    "from collections import Counter\n",
    "style.use('fivethirtyeight')\n",
    "\n",
    "dataset = {\n",
    "        'k':[[50,110],[65,130],[70,140],[55,120],[85,138],[88,142],[87,144],[89,141],[75,135],[80,140],[55,120]],\n",
    "        'r':[[90,145],[100,150],[110,145],[105,155],[98,150],[91,150],[92,146],[93,149],[95,151],[101,160],[104,154]],\n",
    "        }\n",
    "\n",
    "def scatter_plot(new_feat):\n",
    "    # In dataset there are 2 type data'k' & 'r'\n",
    "    # so this loop is use to choice each element\n",
    "    for i in dataset:\n",
    "\n",
    "        # now we know that , i = k or r\n",
    "        # so now it will take the arry that under the 'k' variable\n",
    "        # so here dataset[i] is a 2D array, and ii is a each element of 2D array\n",
    "        for ii in dataset[i]:\n",
    "            # now ii is a 2D array so that we will plot one by one!!!\n",
    "            plt.scatter(ii[0], ii[1], s=100, color=i)\n",
    "\n",
    "    # we need to plot new feature also! so its here\n",
    "    plt.scatter(new_feat[0],new_feat[1],color='b')\n",
    "    # plt.show for show  the graph\n",
    "    plt.show()\n",
    "    \n",
    "def k_NN(data,predict,k=7):\n",
    "    distances = []\n",
    "    # again we will take the element here k or r\n",
    "    for group in data:\n",
    "\n",
    "        # we will go inside each 2D array\n",
    "        for features in data[group]:\n",
    "            # here we measure the distance\n",
    "            euclidian_distances=np.linalg.norm(np.array(features)-np.array(predict))\n",
    "            # all the distence adding into a array\n",
    "            distances.append([euclidian_distances,group])\n",
    "\n",
    "\n",
    "            # take votes for near by element\n",
    "    #list comprehension(consists of: output expression,input sequence & coditional logic)\n",
    "    votes = [i[1] for i in sorted(distances)[:k]] \n",
    "    #for better perception,print all them separately and brood over\n",
    "    print(Counter(votes).most_common(1))\n",
    "    vote_result = Counter(votes).most_common(1)[0][0]\n",
    "    return vote_result\n",
    "\n",
    "while True:\n",
    "    # we are taking 2 inputs by adding them with a ',' so that we splite that string, for getting seperate input\n",
    "    new_arr = input('Add new sample [weight,height]= ').split(',')\n",
    "\n",
    "    # on this array we will take our input\n",
    "    new_feat = []\n",
    "    new_feat.append(int(new_arr[0]))\n",
    "    new_feat.append(int(new_arr[1]))\n",
    "\n",
    "    if new_feat==[0,0]:\n",
    "        break\n",
    "    else:\n",
    "        print(new_feat)\n",
    "        scatter_plot(new_feat)\n",
    "        result = k_NN(dataset,new_feat,k=7)\n",
    "        print('Result',result)\n",
    "        if result=='k':\n",
    "            print('Footballer')\n",
    "        else:\n",
    "            print('Wrestler')\n",
    "        "
   ]
  },
  {
   "cell_type": "code",
   "execution_count": null,
   "metadata": {},
   "outputs": [],
   "source": []
  },
  {
   "cell_type": "code",
   "execution_count": null,
   "metadata": {},
   "outputs": [],
   "source": []
  },
  {
   "cell_type": "code",
   "execution_count": null,
   "metadata": {},
   "outputs": [],
   "source": []
  },
  {
   "cell_type": "code",
   "execution_count": null,
   "metadata": {},
   "outputs": [],
   "source": []
  },
  {
   "cell_type": "code",
   "execution_count": null,
   "metadata": {},
   "outputs": [],
   "source": []
  },
  {
   "cell_type": "code",
   "execution_count": null,
   "metadata": {},
   "outputs": [],
   "source": []
  },
  {
   "cell_type": "code",
   "execution_count": null,
   "metadata": {},
   "outputs": [],
   "source": []
  }
 ],
 "metadata": {
  "kernelspec": {
   "display_name": "Python 3",
   "language": "python",
   "name": "python3"
  },
  "language_info": {
   "codemirror_mode": {
    "name": "ipython",
    "version": 3
   },
   "file_extension": ".py",
   "mimetype": "text/x-python",
   "name": "python",
   "nbconvert_exporter": "python",
   "pygments_lexer": "ipython3",
   "version": "3.7.6"
  }
 },
 "nbformat": 4,
 "nbformat_minor": 4
}
